{
 "cells": [
  {
   "cell_type": "markdown",
   "metadata": {},
   "source": [
    "# Data Dive Homework 2\n",
    "\n",
    "Jacqueline Wu / Week 2 / 2018-09-12\n",
    "\n",
    "\n",
    "**Dataset:** Wine Reviews\n",
    "\n",
    "**Source:** [Kaggle](https://www.kaggle.com/zynicide/wine-reviews)\n",
    "\n",
    "------"
   ]
  },
  {
   "cell_type": "code",
   "execution_count": 34,
   "metadata": {},
   "outputs": [],
   "source": [
    "import pandas as pd\n",
    "import matplotlib.pyplot as plt\n",
    "%matplotlib inline"
   ]
  },
  {
   "cell_type": "code",
   "execution_count": 9,
   "metadata": {},
   "outputs": [],
   "source": [
    "wine = pd.read_csv('data/winemag-data-130k-v2.csv')"
   ]
  },
  {
   "cell_type": "code",
   "execution_count": 3,
   "metadata": {},
   "outputs": [
    {
     "name": "stdout",
     "output_type": "stream",
     "text": [
      "<class 'pandas.core.frame.DataFrame'>\n",
      "RangeIndex: 129971 entries, 0 to 129970\n",
      "Data columns (total 14 columns):\n",
      "Unnamed: 0               129971 non-null int64\n",
      "country                  129908 non-null object\n",
      "description              129971 non-null object\n",
      "designation              92506 non-null object\n",
      "points                   129971 non-null int64\n",
      "price                    120975 non-null float64\n",
      "province                 129908 non-null object\n",
      "region_1                 108724 non-null object\n",
      "region_2                 50511 non-null object\n",
      "taster_name              103727 non-null object\n",
      "taster_twitter_handle    98758 non-null object\n",
      "title                    129971 non-null object\n",
      "variety                  129970 non-null object\n",
      "winery                   129971 non-null object\n",
      "dtypes: float64(1), int64(2), object(11)\n",
      "memory usage: 13.9+ MB\n"
     ]
    }
   ],
   "source": [
    "wine.info()"
   ]
  },
  {
   "cell_type": "code",
   "execution_count": 5,
   "metadata": {},
   "outputs": [],
   "source": [
    "chuck = wine[wine['price'] < 11]"
   ]
  },
  {
   "cell_type": "code",
   "execution_count": 11,
   "metadata": {},
   "outputs": [
    {
     "data": {
      "text/html": [
       "<div>\n",
       "<style>\n",
       "    .dataframe thead tr:only-child th {\n",
       "        text-align: right;\n",
       "    }\n",
       "\n",
       "    .dataframe thead th {\n",
       "        text-align: left;\n",
       "    }\n",
       "\n",
       "    .dataframe tbody tr th {\n",
       "        vertical-align: top;\n",
       "    }\n",
       "</style>\n",
       "<table border=\"1\" class=\"dataframe\">\n",
       "  <thead>\n",
       "    <tr style=\"text-align: right;\">\n",
       "      <th></th>\n",
       "      <th>Unnamed: 0</th>\n",
       "      <th>country</th>\n",
       "      <th>description</th>\n",
       "      <th>designation</th>\n",
       "      <th>points</th>\n",
       "      <th>price</th>\n",
       "      <th>province</th>\n",
       "      <th>region_1</th>\n",
       "      <th>region_2</th>\n",
       "      <th>taster_name</th>\n",
       "      <th>taster_twitter_handle</th>\n",
       "      <th>title</th>\n",
       "      <th>variety</th>\n",
       "      <th>winery</th>\n",
       "    </tr>\n",
       "  </thead>\n",
       "  <tbody>\n",
       "    <tr>\n",
       "      <th>10386</th>\n",
       "      <td>10386</td>\n",
       "      <td>US</td>\n",
       "      <td>A marvelous effort in a difficult year, this t...</td>\n",
       "      <td>NaN</td>\n",
       "      <td>91</td>\n",
       "      <td>9.0</td>\n",
       "      <td>Washington</td>\n",
       "      <td>Columbia Valley (WA)</td>\n",
       "      <td>Columbia Valley</td>\n",
       "      <td>Paul Gregutt</td>\n",
       "      <td>@paulgwine</td>\n",
       "      <td>Chateau Ste. Michelle 2011 Riesling (Columbia ...</td>\n",
       "      <td>Riesling</td>\n",
       "      <td>Chateau Ste. Michelle</td>\n",
       "    </tr>\n",
       "    <tr>\n",
       "      <th>11955</th>\n",
       "      <td>11955</td>\n",
       "      <td>Portugal</td>\n",
       "      <td>A firm wine, based on dry tannins and some den...</td>\n",
       "      <td>Mural Reserva</td>\n",
       "      <td>91</td>\n",
       "      <td>10.0</td>\n",
       "      <td>Douro</td>\n",
       "      <td>NaN</td>\n",
       "      <td>NaN</td>\n",
       "      <td>Roger Voss</td>\n",
       "      <td>@vossroger</td>\n",
       "      <td>Quinta do Portal 2007 Mural Reserva Red (Douro)</td>\n",
       "      <td>Portuguese Red</td>\n",
       "      <td>Quinta do Portal</td>\n",
       "    </tr>\n",
       "    <tr>\n",
       "      <th>18310</th>\n",
       "      <td>18310</td>\n",
       "      <td>Portugal</td>\n",
       "      <td>Orange peel aromas emerge on this delectable f...</td>\n",
       "      <td>NaN</td>\n",
       "      <td>91</td>\n",
       "      <td>10.0</td>\n",
       "      <td>Moscatel de Setúbal</td>\n",
       "      <td>NaN</td>\n",
       "      <td>NaN</td>\n",
       "      <td>Roger Voss</td>\n",
       "      <td>@vossroger</td>\n",
       "      <td>José Maria da Fonseca 2007  Moscatel de Setúbal</td>\n",
       "      <td>Moscatel</td>\n",
       "      <td>José Maria da Fonseca</td>\n",
       "    </tr>\n",
       "    <tr>\n",
       "      <th>26101</th>\n",
       "      <td>26101</td>\n",
       "      <td>US</td>\n",
       "      <td>With full ripeness, density and concentration,...</td>\n",
       "      <td>Winemaker's Select</td>\n",
       "      <td>91</td>\n",
       "      <td>8.0</td>\n",
       "      <td>Washington</td>\n",
       "      <td>Columbia Valley (WA)</td>\n",
       "      <td>Columbia Valley</td>\n",
       "      <td>Paul Gregutt</td>\n",
       "      <td>@paulgwine</td>\n",
       "      <td>Snoqualmie 2006 Winemaker's Select Riesling (C...</td>\n",
       "      <td>Riesling</td>\n",
       "      <td>Snoqualmie</td>\n",
       "    </tr>\n",
       "    <tr>\n",
       "      <th>27415</th>\n",
       "      <td>27415</td>\n",
       "      <td>US</td>\n",
       "      <td>Gorgeous aromas of peach, pear, flower and spi...</td>\n",
       "      <td>NaN</td>\n",
       "      <td>91</td>\n",
       "      <td>10.0</td>\n",
       "      <td>Washington</td>\n",
       "      <td>Columbia Valley (WA)</td>\n",
       "      <td>Columbia Valley</td>\n",
       "      <td>Paul Gregutt</td>\n",
       "      <td>@paulgwine</td>\n",
       "      <td>Barnard Griffin 2012 Riesling (Columbia Valley...</td>\n",
       "      <td>Riesling</td>\n",
       "      <td>Barnard Griffin</td>\n",
       "    </tr>\n",
       "  </tbody>\n",
       "</table>\n",
       "</div>"
      ],
      "text/plain": [
       "       Unnamed: 0   country  \\\n",
       "10386       10386        US   \n",
       "11955       11955  Portugal   \n",
       "18310       18310  Portugal   \n",
       "26101       26101        US   \n",
       "27415       27415        US   \n",
       "\n",
       "                                             description         designation  \\\n",
       "10386  A marvelous effort in a difficult year, this t...                 NaN   \n",
       "11955  A firm wine, based on dry tannins and some den...       Mural Reserva   \n",
       "18310  Orange peel aromas emerge on this delectable f...                 NaN   \n",
       "26101  With full ripeness, density and concentration,...  Winemaker's Select   \n",
       "27415  Gorgeous aromas of peach, pear, flower and spi...                 NaN   \n",
       "\n",
       "       points  price             province              region_1  \\\n",
       "10386      91    9.0           Washington  Columbia Valley (WA)   \n",
       "11955      91   10.0                Douro                   NaN   \n",
       "18310      91   10.0  Moscatel de Setúbal                   NaN   \n",
       "26101      91    8.0           Washington  Columbia Valley (WA)   \n",
       "27415      91   10.0           Washington  Columbia Valley (WA)   \n",
       "\n",
       "              region_2   taster_name taster_twitter_handle  \\\n",
       "10386  Columbia Valley  Paul Gregutt           @paulgwine    \n",
       "11955              NaN    Roger Voss            @vossroger   \n",
       "18310              NaN    Roger Voss            @vossroger   \n",
       "26101  Columbia Valley  Paul Gregutt           @paulgwine    \n",
       "27415  Columbia Valley  Paul Gregutt           @paulgwine    \n",
       "\n",
       "                                                   title         variety  \\\n",
       "10386  Chateau Ste. Michelle 2011 Riesling (Columbia ...        Riesling   \n",
       "11955    Quinta do Portal 2007 Mural Reserva Red (Douro)  Portuguese Red   \n",
       "18310    José Maria da Fonseca 2007  Moscatel de Setúbal        Moscatel   \n",
       "26101  Snoqualmie 2006 Winemaker's Select Riesling (C...        Riesling   \n",
       "27415  Barnard Griffin 2012 Riesling (Columbia Valley...        Riesling   \n",
       "\n",
       "                      winery  \n",
       "10386  Chateau Ste. Michelle  \n",
       "11955       Quinta do Portal  \n",
       "18310  José Maria da Fonseca  \n",
       "26101             Snoqualmie  \n",
       "27415        Barnard Griffin  "
      ]
     },
     "execution_count": 11,
     "metadata": {},
     "output_type": "execute_result"
    }
   ],
   "source": [
    "# show the 5 highest points rating for wine < $11\n",
    "chuck.nlargest(5, 'points')"
   ]
  },
  {
   "cell_type": "code",
   "execution_count": 12,
   "metadata": {},
   "outputs": [
    {
     "data": {
      "text/html": [
       "<div>\n",
       "<style>\n",
       "    .dataframe thead tr:only-child th {\n",
       "        text-align: right;\n",
       "    }\n",
       "\n",
       "    .dataframe thead th {\n",
       "        text-align: left;\n",
       "    }\n",
       "\n",
       "    .dataframe tbody tr th {\n",
       "        vertical-align: top;\n",
       "    }\n",
       "</style>\n",
       "<table border=\"1\" class=\"dataframe\">\n",
       "  <thead>\n",
       "    <tr style=\"text-align: right;\">\n",
       "      <th></th>\n",
       "      <th>Unnamed: 0</th>\n",
       "      <th>country</th>\n",
       "      <th>description</th>\n",
       "      <th>designation</th>\n",
       "      <th>points</th>\n",
       "      <th>price</th>\n",
       "      <th>province</th>\n",
       "      <th>region_1</th>\n",
       "      <th>region_2</th>\n",
       "      <th>taster_name</th>\n",
       "      <th>taster_twitter_handle</th>\n",
       "      <th>title</th>\n",
       "      <th>variety</th>\n",
       "      <th>winery</th>\n",
       "    </tr>\n",
       "  </thead>\n",
       "  <tbody>\n",
       "    <tr>\n",
       "      <th>3640</th>\n",
       "      <td>3640</td>\n",
       "      <td>Portugal</td>\n",
       "      <td>Aromas of strawberry sherbet are followed by s...</td>\n",
       "      <td>Estreia</td>\n",
       "      <td>80</td>\n",
       "      <td>8.0</td>\n",
       "      <td>Vinho Verde</td>\n",
       "      <td>NaN</td>\n",
       "      <td>NaN</td>\n",
       "      <td>Roger Voss</td>\n",
       "      <td>@vossroger</td>\n",
       "      <td>Viniverde 2011 Estreia Rosé (Vinho Verde)</td>\n",
       "      <td>Rosé</td>\n",
       "      <td>Viniverde</td>\n",
       "    </tr>\n",
       "    <tr>\n",
       "      <th>7333</th>\n",
       "      <td>7333</td>\n",
       "      <td>US</td>\n",
       "      <td>Too sweet by far for a table wine, with simple...</td>\n",
       "      <td>NaN</td>\n",
       "      <td>80</td>\n",
       "      <td>10.0</td>\n",
       "      <td>California</td>\n",
       "      <td>California</td>\n",
       "      <td>California Other</td>\n",
       "      <td>NaN</td>\n",
       "      <td>NaN</td>\n",
       "      <td>Esser Cellars 2005 Zinfandel (California)</td>\n",
       "      <td>Zinfandel</td>\n",
       "      <td>Esser Cellars</td>\n",
       "    </tr>\n",
       "    <tr>\n",
       "      <th>11085</th>\n",
       "      <td>11085</td>\n",
       "      <td>France</td>\n",
       "      <td>A white this age should be fresh and crisp; th...</td>\n",
       "      <td>NaN</td>\n",
       "      <td>80</td>\n",
       "      <td>8.0</td>\n",
       "      <td>Southwest France</td>\n",
       "      <td>Bergerac</td>\n",
       "      <td>NaN</td>\n",
       "      <td>Joe Czerwinski</td>\n",
       "      <td>@JoeCz</td>\n",
       "      <td>Seigneurs de Bergerac 1999 White (Bergerac)</td>\n",
       "      <td>White Blend</td>\n",
       "      <td>Seigneurs de Bergerac</td>\n",
       "    </tr>\n",
       "    <tr>\n",
       "      <th>13782</th>\n",
       "      <td>13782</td>\n",
       "      <td>Chile</td>\n",
       "      <td>Yeasty, melony and smelling like yellow mustar...</td>\n",
       "      <td>Left Coast</td>\n",
       "      <td>80</td>\n",
       "      <td>7.0</td>\n",
       "      <td>Chile</td>\n",
       "      <td>NaN</td>\n",
       "      <td>NaN</td>\n",
       "      <td>Michael Schachner</td>\n",
       "      <td>@wineschach</td>\n",
       "      <td>flipflop NV Left Coast Moscato (Chile)</td>\n",
       "      <td>Moscato</td>\n",
       "      <td>flipflop</td>\n",
       "    </tr>\n",
       "    <tr>\n",
       "      <th>15609</th>\n",
       "      <td>15609</td>\n",
       "      <td>Argentina</td>\n",
       "      <td>Beware of funky labeled Malbecs because many d...</td>\n",
       "      <td>NaN</td>\n",
       "      <td>80</td>\n",
       "      <td>10.0</td>\n",
       "      <td>Mendoza Province</td>\n",
       "      <td>Mendoza</td>\n",
       "      <td>NaN</td>\n",
       "      <td>Michael Schachner</td>\n",
       "      <td>@wineschach</td>\n",
       "      <td>Ku Dé Ta 2006 Malbec (Mendoza)</td>\n",
       "      <td>Malbec</td>\n",
       "      <td>Ku Dé Ta</td>\n",
       "    </tr>\n",
       "  </tbody>\n",
       "</table>\n",
       "</div>"
      ],
      "text/plain": [
       "       Unnamed: 0    country  \\\n",
       "3640         3640   Portugal   \n",
       "7333         7333         US   \n",
       "11085       11085     France   \n",
       "13782       13782      Chile   \n",
       "15609       15609  Argentina   \n",
       "\n",
       "                                             description designation  points  \\\n",
       "3640   Aromas of strawberry sherbet are followed by s...     Estreia      80   \n",
       "7333   Too sweet by far for a table wine, with simple...         NaN      80   \n",
       "11085  A white this age should be fresh and crisp; th...         NaN      80   \n",
       "13782  Yeasty, melony and smelling like yellow mustar...  Left Coast      80   \n",
       "15609  Beware of funky labeled Malbecs because many d...         NaN      80   \n",
       "\n",
       "       price          province    region_1          region_2  \\\n",
       "3640     8.0       Vinho Verde         NaN               NaN   \n",
       "7333    10.0        California  California  California Other   \n",
       "11085    8.0  Southwest France    Bergerac               NaN   \n",
       "13782    7.0             Chile         NaN               NaN   \n",
       "15609   10.0  Mendoza Province     Mendoza               NaN   \n",
       "\n",
       "             taster_name taster_twitter_handle  \\\n",
       "3640          Roger Voss            @vossroger   \n",
       "7333                 NaN                   NaN   \n",
       "11085     Joe Czerwinski                @JoeCz   \n",
       "13782  Michael Schachner           @wineschach   \n",
       "15609  Michael Schachner           @wineschach   \n",
       "\n",
       "                                             title      variety  \\\n",
       "3640     Viniverde 2011 Estreia Rosé (Vinho Verde)         Rosé   \n",
       "7333     Esser Cellars 2005 Zinfandel (California)    Zinfandel   \n",
       "11085  Seigneurs de Bergerac 1999 White (Bergerac)  White Blend   \n",
       "13782       flipflop NV Left Coast Moscato (Chile)      Moscato   \n",
       "15609               Ku Dé Ta 2006 Malbec (Mendoza)       Malbec   \n",
       "\n",
       "                      winery  \n",
       "3640               Viniverde  \n",
       "7333           Esser Cellars  \n",
       "11085  Seigneurs de Bergerac  \n",
       "13782               flipflop  \n",
       "15609               Ku Dé Ta  "
      ]
     },
     "execution_count": 12,
     "metadata": {},
     "output_type": "execute_result"
    }
   ],
   "source": [
    "# show the 5 lowest points rating for wine < 11\n",
    "chuck.nsmallest(5, 'points')"
   ]
  },
  {
   "cell_type": "code",
   "execution_count": 13,
   "metadata": {},
   "outputs": [
    {
     "data": {
      "text/plain": [
       "country\n",
       "US          54504\n",
       "France      22093\n",
       "Italy       19540\n",
       "Spain        6645\n",
       "Portugal     5691\n",
       "Name: variety, dtype: int64"
      ]
     },
     "execution_count": 13,
     "metadata": {},
     "output_type": "execute_result"
    }
   ],
   "source": [
    "# show the top 5 countries with largest wine varieties in the dataset\n",
    "wine.groupby('country')['variety'].count().nlargest(5)"
   ]
  },
  {
   "cell_type": "code",
   "execution_count": 20,
   "metadata": {},
   "outputs": [
    {
     "data": {
      "text/plain": [
       "<matplotlib.axes._subplots.AxesSubplot at 0x10cb3c550>"
      ]
     },
     "execution_count": 20,
     "metadata": {},
     "output_type": "execute_result"
    },
    {
     "data": {
      "image/png": "[encoded data removed]",
      "text/plain": [
       "<matplotlib.figure.Figure at 0x10cab3ac8>"
      ]
     },
     "metadata": {},
     "output_type": "display_data"
    }
   ],
   "source": [
    "wine['points'].hist()"
   ]
  },
  {
   "cell_type": "code",
   "execution_count": 15,
   "metadata": {},
   "outputs": [
    {
     "data": {
      "text/plain": [
       "count    129971.000000\n",
       "mean         88.447138\n",
       "std           3.039730\n",
       "min          80.000000\n",
       "25%          86.000000\n",
       "50%          88.000000\n",
       "75%          91.000000\n",
       "max         100.000000\n",
       "Name: points, dtype: float64"
      ]
     },
     "execution_count": 15,
     "metadata": {},
     "output_type": "execute_result"
    }
   ],
   "source": [
    "wine['points'].describe()"
   ]
  },
  {
   "cell_type": "markdown",
   "metadata": {},
   "source": [
    "---\n",
    "## PROBLEMS"
   ]
  },
  {
   "cell_type": "markdown",
   "metadata": {},
   "source": [
    "**1. What is the top rated red wine under eighteen dollars a bottle? Lowest rated white in the same price range?**"
   ]
  },
  {
   "cell_type": "code",
   "execution_count": 10,
   "metadata": {},
   "outputs": [],
   "source": [
    "eighteen = wine[wine['price'] < 18]"
   ]
  },
  {
   "cell_type": "code",
   "execution_count": 17,
   "metadata": {},
   "outputs": [
    {
     "data": {
      "text/html": [
       "<div>\n",
       "<style>\n",
       "    .dataframe thead tr:only-child th {\n",
       "        text-align: right;\n",
       "    }\n",
       "\n",
       "    .dataframe thead th {\n",
       "        text-align: left;\n",
       "    }\n",
       "\n",
       "    .dataframe tbody tr th {\n",
       "        vertical-align: top;\n",
       "    }\n",
       "</style>\n",
       "<table border=\"1\" class=\"dataframe\">\n",
       "  <thead>\n",
       "    <tr style=\"text-align: right;\">\n",
       "      <th></th>\n",
       "      <th>Unnamed: 0</th>\n",
       "      <th>country</th>\n",
       "      <th>description</th>\n",
       "      <th>designation</th>\n",
       "      <th>points</th>\n",
       "      <th>price</th>\n",
       "      <th>province</th>\n",
       "      <th>region_1</th>\n",
       "      <th>region_2</th>\n",
       "      <th>taster_name</th>\n",
       "      <th>taster_twitter_handle</th>\n",
       "      <th>title</th>\n",
       "      <th>variety</th>\n",
       "      <th>winery</th>\n",
       "    </tr>\n",
       "  </thead>\n",
       "  <tbody>\n",
       "    <tr>\n",
       "      <th>19136</th>\n",
       "      <td>19136</td>\n",
       "      <td>Spain</td>\n",
       "      <td>A spectacularly sweet and rich bruiser, and on...</td>\n",
       "      <td>Pedro Ximenez 1827 Sweet Sherry</td>\n",
       "      <td>94</td>\n",
       "      <td>14.0</td>\n",
       "      <td>Andalucia</td>\n",
       "      <td>Jerez</td>\n",
       "      <td>NaN</td>\n",
       "      <td>Michael Schachner</td>\n",
       "      <td>@wineschach</td>\n",
       "      <td>Osborne NV Pedro Ximenez 1827 Sweet Sherry She...</td>\n",
       "      <td>Sherry</td>\n",
       "      <td>Osborne</td>\n",
       "    </tr>\n",
       "  </tbody>\n",
       "</table>\n",
       "</div>"
      ],
      "text/plain": [
       "       Unnamed: 0 country                                        description  \\\n",
       "19136       19136   Spain  A spectacularly sweet and rich bruiser, and on...   \n",
       "\n",
       "                           designation  points  price   province region_1  \\\n",
       "19136  Pedro Ximenez 1827 Sweet Sherry      94   14.0  Andalucia    Jerez   \n",
       "\n",
       "      region_2        taster_name taster_twitter_handle  \\\n",
       "19136      NaN  Michael Schachner           @wineschach   \n",
       "\n",
       "                                                   title variety   winery  \n",
       "19136  Osborne NV Pedro Ximenez 1827 Sweet Sherry She...  Sherry  Osborne  "
      ]
     },
     "execution_count": 17,
     "metadata": {},
     "output_type": "execute_result"
    }
   ],
   "source": [
    "eighteen.nlargest(1, 'points')"
   ]
  },
  {
   "cell_type": "code",
   "execution_count": 18,
   "metadata": {},
   "outputs": [
    {
     "data": {
      "text/html": [
       "<div>\n",
       "<style>\n",
       "    .dataframe thead tr:only-child th {\n",
       "        text-align: right;\n",
       "    }\n",
       "\n",
       "    .dataframe thead th {\n",
       "        text-align: left;\n",
       "    }\n",
       "\n",
       "    .dataframe tbody tr th {\n",
       "        vertical-align: top;\n",
       "    }\n",
       "</style>\n",
       "<table border=\"1\" class=\"dataframe\">\n",
       "  <thead>\n",
       "    <tr style=\"text-align: right;\">\n",
       "      <th></th>\n",
       "      <th>Unnamed: 0</th>\n",
       "      <th>country</th>\n",
       "      <th>description</th>\n",
       "      <th>designation</th>\n",
       "      <th>points</th>\n",
       "      <th>price</th>\n",
       "      <th>province</th>\n",
       "      <th>region_1</th>\n",
       "      <th>region_2</th>\n",
       "      <th>taster_name</th>\n",
       "      <th>taster_twitter_handle</th>\n",
       "      <th>title</th>\n",
       "      <th>variety</th>\n",
       "      <th>winery</th>\n",
       "    </tr>\n",
       "  </thead>\n",
       "  <tbody>\n",
       "    <tr>\n",
       "      <th>3640</th>\n",
       "      <td>3640</td>\n",
       "      <td>Portugal</td>\n",
       "      <td>Aromas of strawberry sherbet are followed by s...</td>\n",
       "      <td>Estreia</td>\n",
       "      <td>80</td>\n",
       "      <td>8.0</td>\n",
       "      <td>Vinho Verde</td>\n",
       "      <td>NaN</td>\n",
       "      <td>NaN</td>\n",
       "      <td>Roger Voss</td>\n",
       "      <td>@vossroger</td>\n",
       "      <td>Viniverde 2011 Estreia Rosé (Vinho Verde)</td>\n",
       "      <td>Rosé</td>\n",
       "      <td>Viniverde</td>\n",
       "    </tr>\n",
       "  </tbody>\n",
       "</table>\n",
       "</div>"
      ],
      "text/plain": [
       "      Unnamed: 0   country                                        description  \\\n",
       "3640        3640  Portugal  Aromas of strawberry sherbet are followed by s...   \n",
       "\n",
       "     designation  points  price     province region_1 region_2 taster_name  \\\n",
       "3640     Estreia      80    8.0  Vinho Verde      NaN      NaN  Roger Voss   \n",
       "\n",
       "     taster_twitter_handle                                      title variety  \\\n",
       "3640            @vossroger  Viniverde 2011 Estreia Rosé (Vinho Verde)    Rosé   \n",
       "\n",
       "         winery  \n",
       "3640  Viniverde  "
      ]
     },
     "execution_count": 18,
     "metadata": {},
     "output_type": "execute_result"
    }
   ],
   "source": [
    "eighteen.nsmallest(1, 'points')"
   ]
  },
  {
   "cell_type": "markdown",
   "metadata": {},
   "source": [
    "**2. What reviewers were the most generous? The least? Describe your approach.**"
   ]
  },
  {
   "cell_type": "code",
   "execution_count": 28,
   "metadata": {},
   "outputs": [
    {
     "data": {
      "text/plain": [
       "taster_name\n",
       "Anne Krebiehl MW      90.562551\n",
       "Matt Kettmann         90.008686\n",
       "Virginie Boone        89.213379\n",
       "Mike DeSimone         89.101167\n",
       "Paul Gregutt          89.082564\n",
       "Kerin O’Keefe         88.867947\n",
       "Sean P. Sullivan      88.755739\n",
       "Roger Voss            88.708003\n",
       "Jim Gordon            88.626287\n",
       "Joe Czerwinski        88.536235\n",
       "Anna Lee C. Iijima    88.415629\n",
       "Jeff Jenssen          88.319756\n",
       "Christina Pickard     87.833333\n",
       "Lauren Buzzeo         87.739510\n",
       "Michael Schachner     86.907493\n",
       "Fiona Adams           86.888889\n",
       "Susan Kostrzewa       86.609217\n",
       "Carrie Dykes          86.395683\n",
       "Alexander Peartree    85.855422\n",
       "Name: points, dtype: float64"
      ]
     },
     "execution_count": 28,
     "metadata": {},
     "output_type": "execute_result"
    }
   ],
   "source": [
    "wine.groupby('taster_name')['points'].mean().sort_values(ascending = False)"
   ]
  },
  {
   "cell_type": "markdown",
   "metadata": {},
   "source": [
    "From the average points per taster, we can see that the...\n",
    "\n",
    "*Most generous:* Anne Krebiehl MW; *Least generous:* Alexander Peartree"
   ]
  },
  {
   "cell_type": "code",
   "execution_count": 38,
   "metadata": {},
   "outputs": [
    {
     "ename": "AttributeError",
     "evalue": "'AxesSubplot' object has no attribute 'plt'",
     "output_type": "error",
     "traceback": [
      "\u001b[0;31m---------------------------------------------------------------------------\u001b[0m",
      "\u001b[0;31mAttributeError\u001b[0m                            Traceback (most recent call last)",
      "\u001b[0;32m<ipython-input-38-2adcdf34f598>\u001b[0m in \u001b[0;36m<module>\u001b[0;34m()\u001b[0m\n\u001b[0;32m----> 1\u001b[0;31m \u001b[0mwine\u001b[0m\u001b[0;34m.\u001b[0m\u001b[0mgroupby\u001b[0m\u001b[0;34m(\u001b[0m\u001b[0;34m'taster_name'\u001b[0m\u001b[0;34m)\u001b[0m\u001b[0;34m[\u001b[0m\u001b[0;34m'points'\u001b[0m\u001b[0;34m]\u001b[0m\u001b[0;34m.\u001b[0m\u001b[0mmean\u001b[0m\u001b[0;34m(\u001b[0m\u001b[0;34m)\u001b[0m\u001b[0;34m.\u001b[0m\u001b[0msort_values\u001b[0m\u001b[0;34m(\u001b[0m\u001b[0mascending\u001b[0m \u001b[0;34m=\u001b[0m \u001b[0;32mFalse\u001b[0m\u001b[0;34m)\u001b[0m\u001b[0;34m.\u001b[0m\u001b[0mplot\u001b[0m\u001b[0;34m(\u001b[0m\u001b[0mkind\u001b[0m \u001b[0;34m=\u001b[0m \u001b[0;34m'bar'\u001b[0m\u001b[0;34m,\u001b[0m \u001b[0mfigsize\u001b[0m \u001b[0;34m=\u001b[0m \u001b[0;34m(\u001b[0m\u001b[0;36m12\u001b[0m\u001b[0;34m,\u001b[0m \u001b[0;36m5\u001b[0m\u001b[0;34m)\u001b[0m\u001b[0;34m,\u001b[0m \u001b[0mtitle\u001b[0m \u001b[0;34m=\u001b[0m \u001b[0;34m'Tasters Scores'\u001b[0m\u001b[0;34m)\u001b[0m\u001b[0;34m.\u001b[0m\u001b[0mplt\u001b[0m\u001b[0;34m.\u001b[0m\u001b[0mylim\u001b[0m\u001b[0;34m(\u001b[0m\u001b[0;36m88\u001b[0m\u001b[0;34m,\u001b[0m \u001b[0;36m100\u001b[0m\u001b[0;34m)\u001b[0m\u001b[0;34m\u001b[0m\u001b[0m\n\u001b[0m",
      "\u001b[0;31mAttributeError\u001b[0m: 'AxesSubplot' object has no attribute 'plt'"
     ]
    },
    {
     "data": {
      "image/png": "[encoded data removed]",
      "text/plain": [
       "<matplotlib.figure.Figure at 0x1142516a0>"
      ]
     },
     "metadata": {},
     "output_type": "display_data"
    }
   ],
   "source": [
    "wine.groupby('taster_name')['points'].mean().sort_values(ascending = False).plot(kind = 'bar', figsize = (12, 5), title = 'Tasters Scores').plt.ylim(88, 100)"
   ]
  },
  {
   "cell_type": "markdown",
   "metadata": {},
   "source": [
    "**3. Suppose we have the following data read in as a pandas dataframe called `df`.**"
   ]
  },
  {
   "cell_type": "markdown",
   "metadata": {},
   "source": [
    "| id | name | age | speed | color |\n",
    "|  ----- | ----- | ----- | ----- | ----- |\n",
    "| 1 | Hennessy | 12 | 4.2 | red |\n",
    "| 2 | Tino | 5 | 6.9 | white |\n",
    "| 3 | Oden | 11 | 5.5 | yellow |\n",
    "| 4 | LuLu | 6  | 4.5 | red |"
   ]
  },
  {
   "cell_type": "code",
   "execution_count": 22,
   "metadata": {},
   "outputs": [],
   "source": [
    "# Create dataframe manually\n",
    "df = pd.DataFrame({'name':['Hennessy', 'Tino', 'Oden', 'LuLu'], 'age':[12, 5, 11, 6], 'speed':[4.2, 6.9, 5.5, 4.5], 'color':['red', 'white', 'yellow', 'red']})"
   ]
  },
  {
   "cell_type": "code",
   "execution_count": 16,
   "metadata": {},
   "outputs": [
    {
     "data": {
      "text/html": [
       "<div>\n",
       "<style>\n",
       "    .dataframe thead tr:only-child th {\n",
       "        text-align: right;\n",
       "    }\n",
       "\n",
       "    .dataframe thead th {\n",
       "        text-align: left;\n",
       "    }\n",
       "\n",
       "    .dataframe tbody tr th {\n",
       "        vertical-align: top;\n",
       "    }\n",
       "</style>\n",
       "<table border=\"1\" class=\"dataframe\">\n",
       "  <thead>\n",
       "    <tr style=\"text-align: right;\">\n",
       "      <th></th>\n",
       "      <th>age</th>\n",
       "      <th>color</th>\n",
       "      <th>name</th>\n",
       "      <th>speed</th>\n",
       "    </tr>\n",
       "  </thead>\n",
       "  <tbody>\n",
       "    <tr>\n",
       "      <th>0</th>\n",
       "      <td>12</td>\n",
       "      <td>red</td>\n",
       "      <td>Hennessy</td>\n",
       "      <td>4.2</td>\n",
       "    </tr>\n",
       "    <tr>\n",
       "      <th>1</th>\n",
       "      <td>5</td>\n",
       "      <td>white</td>\n",
       "      <td>Tino</td>\n",
       "      <td>6.9</td>\n",
       "    </tr>\n",
       "    <tr>\n",
       "      <th>2</th>\n",
       "      <td>11</td>\n",
       "      <td>yellow</td>\n",
       "      <td>Oden</td>\n",
       "      <td>5.5</td>\n",
       "    </tr>\n",
       "    <tr>\n",
       "      <th>3</th>\n",
       "      <td>6</td>\n",
       "      <td>red</td>\n",
       "      <td>LuLu</td>\n",
       "      <td>4.5</td>\n",
       "    </tr>\n",
       "  </tbody>\n",
       "</table>\n",
       "</div>"
      ],
      "text/plain": [
       "   age   color      name  speed\n",
       "0   12     red  Hennessy    4.2\n",
       "1    5   white      Tino    6.9\n",
       "2   11  yellow      Oden    5.5\n",
       "3    6     red      LuLu    4.5"
      ]
     },
     "execution_count": 16,
     "metadata": {},
     "output_type": "execute_result"
    }
   ],
   "source": [
    "df"
   ]
  },
  {
   "cell_type": "markdown",
   "metadata": {},
   "source": [
    "Write the result of the following operations:\n",
    "- **`df['name']`**\n",
    "\n",
    "- **`df['color'].value_counts()`**\n",
    "    \n",
    "- **`df.nlargest(2, 'age')`**\n",
    "\n",
    "- **`df.describe()`**\n",
    "\n",
    "- **`df.groupby('color')['age'].mean()`**"
   ]
  },
  {
   "cell_type": "code",
   "execution_count": 17,
   "metadata": {},
   "outputs": [
    {
     "data": {
      "text/plain": [
       "0    Hennessy\n",
       "1        Tino\n",
       "2        Oden\n",
       "3        LuLu\n",
       "Name: name, dtype: object"
      ]
     },
     "execution_count": 17,
     "metadata": {},
     "output_type": "execute_result"
    }
   ],
   "source": [
    "df['name']"
   ]
  },
  {
   "cell_type": "code",
   "execution_count": 18,
   "metadata": {},
   "outputs": [
    {
     "data": {
      "text/plain": [
       "red       2\n",
       "yellow    1\n",
       "white     1\n",
       "Name: color, dtype: int64"
      ]
     },
     "execution_count": 18,
     "metadata": {},
     "output_type": "execute_result"
    }
   ],
   "source": [
    "df['color'].value_counts()"
   ]
  },
  {
   "cell_type": "code",
   "execution_count": 19,
   "metadata": {},
   "outputs": [
    {
     "data": {
      "text/html": [
       "<div>\n",
       "<style>\n",
       "    .dataframe thead tr:only-child th {\n",
       "        text-align: right;\n",
       "    }\n",
       "\n",
       "    .dataframe thead th {\n",
       "        text-align: left;\n",
       "    }\n",
       "\n",
       "    .dataframe tbody tr th {\n",
       "        vertical-align: top;\n",
       "    }\n",
       "</style>\n",
       "<table border=\"1\" class=\"dataframe\">\n",
       "  <thead>\n",
       "    <tr style=\"text-align: right;\">\n",
       "      <th></th>\n",
       "      <th>age</th>\n",
       "      <th>color</th>\n",
       "      <th>name</th>\n",
       "      <th>speed</th>\n",
       "    </tr>\n",
       "  </thead>\n",
       "  <tbody>\n",
       "    <tr>\n",
       "      <th>0</th>\n",
       "      <td>12</td>\n",
       "      <td>red</td>\n",
       "      <td>Hennessy</td>\n",
       "      <td>4.2</td>\n",
       "    </tr>\n",
       "    <tr>\n",
       "      <th>2</th>\n",
       "      <td>11</td>\n",
       "      <td>yellow</td>\n",
       "      <td>Oden</td>\n",
       "      <td>5.5</td>\n",
       "    </tr>\n",
       "  </tbody>\n",
       "</table>\n",
       "</div>"
      ],
      "text/plain": [
       "   age   color      name  speed\n",
       "0   12     red  Hennessy    4.2\n",
       "2   11  yellow      Oden    5.5"
      ]
     },
     "execution_count": 19,
     "metadata": {},
     "output_type": "execute_result"
    }
   ],
   "source": [
    "df.nlargest(2, 'age')"
   ]
  },
  {
   "cell_type": "code",
   "execution_count": 39,
   "metadata": {},
   "outputs": [
    {
     "data": {
      "text/html": [
       "<div>\n",
       "<style>\n",
       "    .dataframe thead tr:only-child th {\n",
       "        text-align: right;\n",
       "    }\n",
       "\n",
       "    .dataframe thead th {\n",
       "        text-align: left;\n",
       "    }\n",
       "\n",
       "    .dataframe tbody tr th {\n",
       "        vertical-align: top;\n",
       "    }\n",
       "</style>\n",
       "<table border=\"1\" class=\"dataframe\">\n",
       "  <thead>\n",
       "    <tr style=\"text-align: right;\">\n",
       "      <th></th>\n",
       "      <th>age</th>\n",
       "      <th>speed</th>\n",
       "    </tr>\n",
       "  </thead>\n",
       "  <tbody>\n",
       "    <tr>\n",
       "      <th>count</th>\n",
       "      <td>4.000000</td>\n",
       "      <td>4.00000</td>\n",
       "    </tr>\n",
       "    <tr>\n",
       "      <th>mean</th>\n",
       "      <td>8.500000</td>\n",
       "      <td>5.27500</td>\n",
       "    </tr>\n",
       "    <tr>\n",
       "      <th>std</th>\n",
       "      <td>3.511885</td>\n",
       "      <td>1.21758</td>\n",
       "    </tr>\n",
       "    <tr>\n",
       "      <th>min</th>\n",
       "      <td>5.000000</td>\n",
       "      <td>4.20000</td>\n",
       "    </tr>\n",
       "    <tr>\n",
       "      <th>25%</th>\n",
       "      <td>5.750000</td>\n",
       "      <td>4.42500</td>\n",
       "    </tr>\n",
       "    <tr>\n",
       "      <th>50%</th>\n",
       "      <td>8.500000</td>\n",
       "      <td>5.00000</td>\n",
       "    </tr>\n",
       "    <tr>\n",
       "      <th>75%</th>\n",
       "      <td>11.250000</td>\n",
       "      <td>5.85000</td>\n",
       "    </tr>\n",
       "    <tr>\n",
       "      <th>max</th>\n",
       "      <td>12.000000</td>\n",
       "      <td>6.90000</td>\n",
       "    </tr>\n",
       "  </tbody>\n",
       "</table>\n",
       "</div>"
      ],
      "text/plain": [
       "             age    speed\n",
       "count   4.000000  4.00000\n",
       "mean    8.500000  5.27500\n",
       "std     3.511885  1.21758\n",
       "min     5.000000  4.20000\n",
       "25%     5.750000  4.42500\n",
       "50%     8.500000  5.00000\n",
       "75%    11.250000  5.85000\n",
       "max    12.000000  6.90000"
      ]
     },
     "execution_count": 39,
     "metadata": {},
     "output_type": "execute_result"
    }
   ],
   "source": [
    "# Summary statistics of the QUANTITATIVE data types\n",
    "df.describe()"
   ]
  },
  {
   "cell_type": "code",
   "execution_count": 21,
   "metadata": {},
   "outputs": [
    {
     "data": {
      "text/plain": [
       "color\n",
       "red        9\n",
       "white      5\n",
       "yellow    11\n",
       "Name: age, dtype: int64"
      ]
     },
     "execution_count": 21,
     "metadata": {},
     "output_type": "execute_result"
    }
   ],
   "source": [
    "df.groupby('color')['age'].mean()"
   ]
  },
  {
   "cell_type": "markdown",
   "metadata": {},
   "source": [
    "**4. Go back to the wine data. Write down five purely descriptive questions that could be answered from the data.**\n",
    "+ Which country produces the most wines?\n",
    "+ Which country has the most expensive/least expensive wine?\n",
    "+ In which country is each variety highest produced?\n",
    "+ What is the highest/lowest rated wine?\n",
    "+ Which taster has the most data?"
   ]
  },
  {
   "cell_type": "markdown",
   "metadata": {},
   "source": [
    "**5. Choose three of your questions and provide an initial answer.**"
   ]
  },
  {
   "cell_type": "code",
   "execution_count": 38,
   "metadata": {},
   "outputs": [
    {
     "data": {
      "text/plain": [
       "count     129908\n",
       "unique        43\n",
       "top           US\n",
       "freq       54504\n",
       "Name: country, dtype: object"
      ]
     },
     "execution_count": 38,
     "metadata": {},
     "output_type": "execute_result"
    }
   ],
   "source": [
    "# Which country produces the most wines?\n",
    "wine['country'].describe()"
   ]
  },
  {
   "cell_type": "code",
   "execution_count": 32,
   "metadata": {},
   "outputs": [
    {
     "data": {
      "text/plain": [
       "variety                   country \n",
       "Pinot Noir                US          9885\n",
       "Cabernet Sauvignon        US          7315\n",
       "Chardonnay                US          6801\n",
       "Bordeaux-style Red Blend  France      4725\n",
       "Red Blend                 Italy       3624\n",
       "Syrah                     US          3244\n",
       "Red Blend                 US          2972\n",
       "Chardonnay                France      2808\n",
       "Nebbiolo                  Italy       2736\n",
       "Zinfandel                 US          2711\n",
       "Portuguese Red            Portugal    2466\n",
       "Merlot                    US          2311\n",
       "Sangiovese                Italy       2265\n",
       "Sauvignon Blanc           US          2163\n",
       "Pinot Noir                France      1966\n",
       "Name: country, dtype: int64"
      ]
     },
     "execution_count": 32,
     "metadata": {},
     "output_type": "execute_result"
    }
   ],
   "source": [
    "# In which country is each variety highest produced?\n",
    "wine.groupby('variety')['country'].value_counts().nlargest(15)"
   ]
  },
  {
   "cell_type": "code",
   "execution_count": 39,
   "metadata": {},
   "outputs": [
    {
     "data": {
      "text/html": [
       "<div>\n",
       "<style>\n",
       "    .dataframe thead tr:only-child th {\n",
       "        text-align: right;\n",
       "    }\n",
       "\n",
       "    .dataframe thead th {\n",
       "        text-align: left;\n",
       "    }\n",
       "\n",
       "    .dataframe tbody tr th {\n",
       "        vertical-align: top;\n",
       "    }\n",
       "</style>\n",
       "<table border=\"1\" class=\"dataframe\">\n",
       "  <thead>\n",
       "    <tr style=\"text-align: right;\">\n",
       "      <th></th>\n",
       "      <th>Unnamed: 0</th>\n",
       "      <th>country</th>\n",
       "      <th>description</th>\n",
       "      <th>designation</th>\n",
       "      <th>points</th>\n",
       "      <th>price</th>\n",
       "      <th>province</th>\n",
       "      <th>region_1</th>\n",
       "      <th>region_2</th>\n",
       "      <th>taster_name</th>\n",
       "      <th>taster_twitter_handle</th>\n",
       "      <th>title</th>\n",
       "      <th>variety</th>\n",
       "      <th>winery</th>\n",
       "    </tr>\n",
       "  </thead>\n",
       "  <tbody>\n",
       "    <tr>\n",
       "      <th>80290</th>\n",
       "      <td>80290</td>\n",
       "      <td>France</td>\n",
       "      <td>This ripe wine shows plenty of blackberry frui...</td>\n",
       "      <td>NaN</td>\n",
       "      <td>88</td>\n",
       "      <td>3300.0</td>\n",
       "      <td>Bordeaux</td>\n",
       "      <td>Médoc</td>\n",
       "      <td>NaN</td>\n",
       "      <td>Roger Voss</td>\n",
       "      <td>@vossroger</td>\n",
       "      <td>Château les Ormes Sorbet 2013  Médoc</td>\n",
       "      <td>Bordeaux-style Red Blend</td>\n",
       "      <td>Château les Ormes Sorbet</td>\n",
       "    </tr>\n",
       "  </tbody>\n",
       "</table>\n",
       "</div>"
      ],
      "text/plain": [
       "       Unnamed: 0 country                                        description  \\\n",
       "80290       80290  France  This ripe wine shows plenty of blackberry frui...   \n",
       "\n",
       "      designation  points   price  province region_1 region_2 taster_name  \\\n",
       "80290         NaN      88  3300.0  Bordeaux    Médoc      NaN  Roger Voss   \n",
       "\n",
       "      taster_twitter_handle                                 title  \\\n",
       "80290            @vossroger  Château les Ormes Sorbet 2013  Médoc   \n",
       "\n",
       "                        variety                    winery  \n",
       "80290  Bordeaux-style Red Blend  Château les Ormes Sorbet  "
      ]
     },
     "execution_count": 39,
     "metadata": {},
     "output_type": "execute_result"
    }
   ],
   "source": [
    "# Which country has the most expensive/least expensive wine?\n",
    "wine.nlargest(1, 'price')"
   ]
  },
  {
   "cell_type": "code",
   "execution_count": 40,
   "metadata": {},
   "outputs": [
    {
     "data": {
      "text/html": [
       "<div>\n",
       "<style>\n",
       "    .dataframe thead tr:only-child th {\n",
       "        text-align: right;\n",
       "    }\n",
       "\n",
       "    .dataframe thead th {\n",
       "        text-align: left;\n",
       "    }\n",
       "\n",
       "    .dataframe tbody tr th {\n",
       "        vertical-align: top;\n",
       "    }\n",
       "</style>\n",
       "<table border=\"1\" class=\"dataframe\">\n",
       "  <thead>\n",
       "    <tr style=\"text-align: right;\">\n",
       "      <th></th>\n",
       "      <th>Unnamed: 0</th>\n",
       "      <th>country</th>\n",
       "      <th>description</th>\n",
       "      <th>designation</th>\n",
       "      <th>points</th>\n",
       "      <th>price</th>\n",
       "      <th>province</th>\n",
       "      <th>region_1</th>\n",
       "      <th>region_2</th>\n",
       "      <th>taster_name</th>\n",
       "      <th>taster_twitter_handle</th>\n",
       "      <th>title</th>\n",
       "      <th>variety</th>\n",
       "      <th>winery</th>\n",
       "    </tr>\n",
       "  </thead>\n",
       "  <tbody>\n",
       "    <tr>\n",
       "      <th>1987</th>\n",
       "      <td>1987</td>\n",
       "      <td>Spain</td>\n",
       "      <td>Berry and cherry aromas are surprisingly sturd...</td>\n",
       "      <td>Flirty Bird</td>\n",
       "      <td>85</td>\n",
       "      <td>4.0</td>\n",
       "      <td>Central Spain</td>\n",
       "      <td>Vino de la Tierra de Castilla</td>\n",
       "      <td>NaN</td>\n",
       "      <td>Michael Schachner</td>\n",
       "      <td>@wineschach</td>\n",
       "      <td>Felix Solis 2013 Flirty Bird Syrah (Vino de la...</td>\n",
       "      <td>Syrah</td>\n",
       "      <td>Felix Solis</td>\n",
       "    </tr>\n",
       "  </tbody>\n",
       "</table>\n",
       "</div>"
      ],
      "text/plain": [
       "      Unnamed: 0 country                                        description  \\\n",
       "1987        1987   Spain  Berry and cherry aromas are surprisingly sturd...   \n",
       "\n",
       "      designation  points  price       province  \\\n",
       "1987  Flirty Bird      85    4.0  Central Spain   \n",
       "\n",
       "                           region_1 region_2        taster_name  \\\n",
       "1987  Vino de la Tierra de Castilla      NaN  Michael Schachner   \n",
       "\n",
       "     taster_twitter_handle                                              title  \\\n",
       "1987           @wineschach  Felix Solis 2013 Flirty Bird Syrah (Vino de la...   \n",
       "\n",
       "     variety       winery  \n",
       "1987   Syrah  Felix Solis  "
      ]
     },
     "execution_count": 40,
     "metadata": {},
     "output_type": "execute_result"
    }
   ],
   "source": [
    "wine.nsmallest(1, 'price')"
   ]
  },
  {
   "cell_type": "markdown",
   "metadata": {},
   "source": [
    "**6. Find a tutorial online dealing with Pandas. One place to look is the Pandas documentation (https://pandas.pydata.org/pandas-docs/stable/tutorials.html). Go through the tutorial and write a few sentences describing the topic, what you learned, and what you are still confused about in terms of operations with Pandas. There are many youtube tutorials, blogs, and open source texts that detail python and pandas, find something you're interested in, you will be sharing this with the class.**\n",
    "\n",
    "Tutorial: [Scatter Plots](https://pandas.pydata.org/pandas-docs/stable/generated/pandas.DataFrame.plot.scatter.html) [And general plot reference](https://pandas.pydata.org/pandas-docs/stable/generated/pandas.DataFrame.plot.html#pandas.DataFrame.plot)"
   ]
  },
  {
   "cell_type": "code",
   "execution_count": 54,
   "metadata": {},
   "outputs": [
    {
     "data": {
      "text/plain": [
       "<matplotlib.axes._subplots.AxesSubplot at 0x11938e2b0>"
      ]
     },
     "execution_count": 54,
     "metadata": {},
     "output_type": "execute_result"
    },
    {
     "data": {
      "image/png": "[encoded data removed]",
      "text/plain": [
       "<matplotlib.figure.Figure at 0x11717c630>"
      ]
     },
     "metadata": {},
     "output_type": "display_data"
    }
   ],
   "source": [
    "wine.plot.scatter(x='points',y='price', c='DarkGreen', title='Points vs. Price')"
   ]
  },
  {
   "cell_type": "code",
   "execution_count": null,
   "metadata": {},
   "outputs": [],
   "source": []
  }
 ],
 "metadata": {
  "kernelspec": {
   "display_name": "Python 3",
   "language": "python",
   "name": "python3"
  },
  "language_info": {
   "codemirror_mode": {
    "name": "ipython",
    "version": 3
   },
   "file_extension": ".py",
   "mimetype": "text/x-python",
   "name": "python",
   "nbconvert_exporter": "python",
   "pygments_lexer": "ipython3",
   "version": "3.6.3"
  }
 },
 "nbformat": 4,
 "nbformat_minor": 2
}
